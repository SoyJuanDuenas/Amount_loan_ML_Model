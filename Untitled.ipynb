{
 "cells": [
  {
   "cell_type": "markdown",
   "id": "ca2c6f88",
   "metadata": {},
   "source": [
    "The objetive of this project is apply a Machine Learning model to predict the optimal loan amount for a future bank client based on a set of characteristics, the data are from a explample dataset.\n",
    "\n",
    "This project is developed for the course Machine Learning in Python by Juan David Dueñas and Andrés Leguizamon, both economics students at Universidad Nacional de Colombia"
   ]
  },
  {
   "cell_type": "code",
   "execution_count": 1,
   "id": "a13e754c",
   "metadata": {},
   "outputs": [],
   "source": [
    "#Import the libraries\n",
    "\n",
    "import pandas as pd\n",
    "import numpy as np\n",
    "import seaborn as sns\n",
    "import matplotlib.pyplot as plt"
   ]
  },
  {
   "cell_type": "code",
   "execution_count": null,
   "id": "0dcb92a5",
   "metadata": {},
   "outputs": [],
   "source": [
    "#Import the data\n",
    "\n",
    "data = pd.read_csv(\"\")"
   ]
  }
 ],
 "metadata": {
  "kernelspec": {
   "display_name": "Python 3 (ipykernel)",
   "language": "python",
   "name": "python3"
  },
  "language_info": {
   "codemirror_mode": {
    "name": "ipython",
    "version": 3
   },
   "file_extension": ".py",
   "mimetype": "text/x-python",
   "name": "python",
   "nbconvert_exporter": "python",
   "pygments_lexer": "ipython3",
   "version": "3.9.13"
  }
 },
 "nbformat": 4,
 "nbformat_minor": 5
}
